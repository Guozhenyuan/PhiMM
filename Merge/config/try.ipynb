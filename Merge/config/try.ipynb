{
 "cells": [
  {
   "cell_type": "code",
   "execution_count": 4,
   "metadata": {},
   "outputs": [
    {
     "data": {
      "text/plain": [
       "{'merge': {'method': 'ties',\n",
       "  'parameters': {'scaling_coefficient': 0.4,\n",
       "   'trim_rate': 0.8,\n",
       "   'drop_rate': 0.9}},\n",
       " 'model': {'pretrained': 'meta-llama/Llama-2-7b-hf',\n",
       "  'finetuned': ['WizardLMTeam/WizardMath-7B-V1.0',\n",
       "   'PKU-Alignment/beaver-7b-v3.0']},\n",
       " 'output': {'path': './output'}}"
      ]
     },
     "execution_count": 4,
     "metadata": {},
     "output_type": "execute_result"
    }
   ],
   "source": [
    "import yaml\n",
    "\n",
    "def from_yaml(path):\n",
    "    with open(path, \"r\", encoding=\"utf-8\") as file:\n",
    "        data = yaml.load(file, yaml.SafeLoader)\n",
    "    return data\n",
    "\n",
    "y = from_yaml('merged_model.yaml')\n",
    "y"
   ]
  },
  {
   "cell_type": "code",
   "execution_count": 5,
   "metadata": {},
   "outputs": [
    {
     "ename": "AttributeError",
     "evalue": "'dict' object has no attribute 'output'",
     "output_type": "error",
     "traceback": [
      "\u001b[0;31m---------------------------------------------------------------------------\u001b[0m",
      "\u001b[0;31mAttributeError\u001b[0m                            Traceback (most recent call last)",
      "Cell \u001b[0;32mIn[5], line 1\u001b[0m\n\u001b[0;32m----> 1\u001b[0m \u001b[43my\u001b[49m\u001b[38;5;241;43m.\u001b[39;49m\u001b[43moutput\u001b[49m\n",
      "\u001b[0;31mAttributeError\u001b[0m: 'dict' object has no attribute 'output'"
     ]
    }
   ],
   "source": [
    "y.output"
   ]
  }
 ],
 "metadata": {
  "kernelspec": {
   "display_name": "llm-merging",
   "language": "python",
   "name": "python3"
  },
  "language_info": {
   "codemirror_mode": {
    "name": "ipython",
    "version": 3
   },
   "file_extension": ".py",
   "mimetype": "text/x-python",
   "name": "python",
   "nbconvert_exporter": "python",
   "pygments_lexer": "ipython3",
   "version": "3.10.14"
  }
 },
 "nbformat": 4,
 "nbformat_minor": 2
}
