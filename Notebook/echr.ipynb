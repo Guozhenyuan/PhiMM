{
 "cells": [
  {
   "cell_type": "code",
   "execution_count": 1,
   "metadata": {},
   "outputs": [],
   "source": [
    "dir_train_anon = '../Data/raw/echr/EN_train_Anon'\n",
    "dir_train = '../Data/raw/echr/EN_train'\n",
    "dir_test_anon = '../Data/raw/echr/EN_test_Anon'\n",
    "dir_test = '../Data/raw/echr/EN_test'"
   ]
  },
  {
   "cell_type": "code",
   "execution_count": 2,
   "metadata": {},
   "outputs": [],
   "source": [
    "import os\n",
    "import sys\n",
    "\n",
    "def list_all_files(directory):\n",
    "    \"\"\"\n",
    "    列出目录下的所有文件（不包括子目录）\n",
    "    :param directory: 目标目录路径\n",
    "    :return: 文件路径列表\n",
    "    \"\"\"\n",
    "    files = []\n",
    "    for item in os.listdir(directory):\n",
    "        full_path = os.path.join(directory, item)\n",
    "        if os.path.isfile(full_path):  # 判断是否为文件\n",
    "            files.append(full_path)\n",
    "    return files\n",
    "\n",
    "paths_train_anon = list_all_files(dir_train_anon)\n",
    "paths_train = list_all_files(dir_train)\n",
    "paths_test_anon = list_all_files(dir_test_anon)\n",
    "paths_test = list_all_files(dir_test)"
   ]
  },
  {
   "cell_type": "code",
   "execution_count": 3,
   "metadata": {},
   "outputs": [],
   "source": [
    "import json\n",
    "from datasets import Dataset\n",
    "\n",
    "def read_json_file(file_path):\n",
    "    \"\"\"\n",
    "    读取 JSON 文件并返回解析后的数据\n",
    "    :param file_path: JSON 文件路径\n",
    "    :return: 解析后的 Python 数据结构（通常是字典或列表）\n",
    "    \"\"\"\n",
    "    with open(file_path, 'r', encoding='utf-8') as file:\n",
    "        data = json.load(file)  # 将 JSON 转换为 Python 对象\n",
    "    return data\n",
    "\n",
    "# data_train_anon = [j for i in paths_train_anon for j in read_json_file(i)['TEXT']]\n",
    "data_train = [j for i in paths_train for j in read_json_file(i)['TEXT']]\n",
    "data_test = [j for i in paths_test for j in read_json_file(i)['TEXT']]\n",
    "\n",
    "dataset_train = Dataset.from_dict({'text':data_train})\n",
    "dataset_test = Dataset.from_dict({'text':data_test})"
   ]
  },
  {
   "cell_type": "code",
   "execution_count": 4,
   "metadata": {},
   "outputs": [
    {
     "data": {
      "text/plain": [
       "Dataset({\n",
       "    features: ['text'],\n",
       "    num_rows: 303483\n",
       "})"
      ]
     },
     "execution_count": 4,
     "metadata": {},
     "output_type": "execute_result"
    }
   ],
   "source": [
    "dataset_train"
   ]
  },
  {
   "cell_type": "code",
   "execution_count": 5,
   "metadata": {},
   "outputs": [
    {
     "data": {
      "text/plain": [
       "Dataset({\n",
       "    features: ['text'],\n",
       "    num_rows: 94150\n",
       "})"
      ]
     },
     "execution_count": 5,
     "metadata": {},
     "output_type": "execute_result"
    }
   ],
   "source": [
    "dataset_test"
   ]
  },
  {
   "cell_type": "markdown",
   "metadata": {},
   "source": [
    "### 处理数据\n"
   ]
  },
  {
   "cell_type": "code",
   "execution_count": 6,
   "metadata": {},
   "outputs": [
    {
     "data": {
      "application/vnd.jupyter.widget-view+json": {
       "model_id": "1b20097723dc40c09b1996affa872ec0",
       "version_major": 2,
       "version_minor": 0
      },
      "text/plain": [
       "Filter (num_proc=48):   0%|          | 0/303483 [00:00<?, ? examples/s]"
      ]
     },
     "metadata": {},
     "output_type": "display_data"
    },
    {
     "name": "stdout",
     "output_type": "stream",
     "text": [
      "Dataset({\n",
      "    features: ['text'],\n",
      "    num_rows: 179201\n",
      "})\n"
     ]
    },
    {
     "data": {
      "application/vnd.jupyter.widget-view+json": {
       "model_id": "35270421c49f497a9f2c47fe065eef4e",
       "version_major": 2,
       "version_minor": 0
      },
      "text/plain": [
       "Filter (num_proc=48):   0%|          | 0/179201 [00:00<?, ? examples/s]"
      ]
     },
     "metadata": {},
     "output_type": "display_data"
    },
    {
     "name": "stdout",
     "output_type": "stream",
     "text": [
      "Dataset({\n",
      "    features: ['text'],\n",
      "    num_rows: 55180\n",
      "})\n"
     ]
    },
    {
     "data": {
      "application/vnd.jupyter.widget-view+json": {
       "model_id": "4637a425e7734df2970558184c1938a2",
       "version_major": 2,
       "version_minor": 0
      },
      "text/plain": [
       "Map (num_proc=48):   0%|          | 0/55180 [00:00<?, ? examples/s]"
      ]
     },
     "metadata": {},
     "output_type": "display_data"
    },
    {
     "name": "stdout",
     "output_type": "stream",
     "text": [
      "Dataset({\n",
      "    features: ['text', 'unmask_seq', 'masked_seq', 'pii_mask_idx', 'pii_mask'],\n",
      "    num_rows: 55180\n",
      "})\n"
     ]
    },
    {
     "data": {
      "application/vnd.jupyter.widget-view+json": {
       "model_id": "a1d42ee760c048689013845ee39f527a",
       "version_major": 2,
       "version_minor": 0
      },
      "text/plain": [
       "Filter (num_proc=48):   0%|          | 0/55180 [00:00<?, ? examples/s]"
      ]
     },
     "metadata": {},
     "output_type": "display_data"
    },
    {
     "name": "stdout",
     "output_type": "stream",
     "text": [
      "Dataset({\n",
      "    features: ['text', 'unmask_seq', 'masked_seq', 'pii_mask_idx', 'pii_mask'],\n",
      "    num_rows: 38823\n",
      "})\n"
     ]
    },
    {
     "data": {
      "application/vnd.jupyter.widget-view+json": {
       "model_id": "a119ae0972df4532a74c58126b09e17c",
       "version_major": 2,
       "version_minor": 0
      },
      "text/plain": [
       "Filter (num_proc=48):   0%|          | 0/38823 [00:00<?, ? examples/s]"
      ]
     },
     "metadata": {},
     "output_type": "display_data"
    },
    {
     "name": "stdout",
     "output_type": "stream",
     "text": [
      "Dataset({\n",
      "    features: ['text', 'unmask_seq', 'masked_seq', 'pii_mask_idx', 'pii_mask'],\n",
      "    num_rows: 33056\n",
      "})\n"
     ]
    },
    {
     "data": {
      "application/vnd.jupyter.widget-view+json": {
       "model_id": "5548c4132f4942f0813d686897869045",
       "version_major": 2,
       "version_minor": 0
      },
      "text/plain": [
       "Filter (num_proc=48):   0%|          | 0/33056 [00:00<?, ? examples/s]"
      ]
     },
     "metadata": {},
     "output_type": "display_data"
    },
    {
     "name": "stdout",
     "output_type": "stream",
     "text": [
      "Dataset({\n",
      "    features: ['text', 'unmask_seq', 'masked_seq', 'pii_mask_idx', 'pii_mask'],\n",
      "    num_rows: 33056\n",
      "})\n"
     ]
    }
   ],
   "source": [
    "import os\n",
    "os.environ['https_proxy'] = 'http://10.14.30.39:7890'\n",
    "\n",
    "from presidio_analyzer import AnalyzerEngine\n",
    "from presidio_anonymizer import AnonymizerEngine, DeanonymizeEngine\n",
    "from presidio_analyzer.nlp_engine import TransformersNlpEngine\n",
    "from presidio_anonymizer.entities import RecognizerResult, OperatorResult, OperatorConfig\n",
    "from presidio_anonymizer.operators import Decrypt\n",
    "from presidio_anonymizer.entities import (\n",
    "    ConflictResolutionStrategy,\n",
    "    EngineResult,\n",
    "    OperatorConfig,\n",
    "    RecognizerResult,\n",
    ")\n",
    "from presidio_analyzer.nlp_engine import NlpEngineProvider\n",
    "\n",
    "import sys\n",
    "sys.path.append('..')\n",
    "from Data.utils import save_json\n",
    "\n",
    "import copy\n",
    "\n",
    "configuration = {\n",
    "    \"nlp_engine_name\": \"spacy\",\n",
    "    \"models\": [{\"lang_code\": \"es\", \"model_name\": \"es_core_news_md\"},\n",
    "                {\"lang_code\": \"en\", \"model_name\": \"en_core_web_lg\"}],\n",
    "}\n",
    "\n",
    "provider = NlpEngineProvider(nlp_configuration=configuration)\n",
    "nlp_engine_with_spanish = provider.create_engine()\n",
    "\n",
    "analyzer = AnalyzerEngine(default_score_threshold=0.85,nlp_engine=nlp_engine_with_spanish, \n",
    "    supported_languages=[\"en\"])\n",
    "anonymizer = AnonymizerEngine()\n",
    "\n",
    "def presidio_pii(seq,analyzer,anonymizer):\n",
    "    # print(example)\n",
    "    # ,entities=['PERSON', 'PHONE_NUMBER', 'DATE_TIME', 'LOCATION', 'EMAIL_ADDRESS', 'NRP']÷\n",
    "    analyze_result = analyzer.analyze(text=seq,language='en',entities=['PERSON', 'DATE_TIME', 'LOCATION', 'NRP'])\n",
    "    # analyze_result = analyzer.analyze(text=seq,language='en')\n",
    "\n",
    "    op_dict = {}\n",
    "    pii_mask_idx = []\n",
    "    pii_mask = []\n",
    "    pii_dict = {} # pii_type:[pii1,pii2]\n",
    "    masked_seq = copy.deepcopy(seq)\n",
    "    # print(analyze_result)\n",
    "    for az in analyze_result:\n",
    "        pii = seq[az.start:az.end]\n",
    "        pii_type = az.entity_type\n",
    "        if pii_type not in pii_dict.keys():\n",
    "            pii_dict[pii_type] = [pii]\n",
    "        else:\n",
    "            if pii not in pii_dict[pii_type]:\n",
    "                pii_dict[pii_type].append(pii)\n",
    "        idx = pii_dict[pii_type].index(pii)\n",
    "        pii_type_new = pii_type+'-'+str(idx)\n",
    "        masked_seq = masked_seq.replace(pii,f'[{pii_type_new}]')\n",
    "        \n",
    "        pii_mask_idx.append({'value':pii,'label':pii_type_new,'start':az.start,'end':az.end})\n",
    "        pii_mask.append((pii,pii_type_new))\n",
    "\n",
    "    pii_mask = set(pii_mask)\n",
    "    pii_mask = [{'value':pm[0],'label':pm[1]} for pm in pii_mask]\n",
    "    return masked_seq,pii_mask,pii_mask_idx\n",
    "\n",
    "def proc_pii(example):\n",
    "    body = example['text']\n",
    "    data = {}\n",
    "    data['unmask_seq'] = body\n",
    "    masked_seq,pii_mask,pii_mask_idx = presidio_pii(body,analyzer,anonymizer)\n",
    "    # print(masked_seq)\n",
    "    data['masked_seq'] = masked_seq\n",
    "    data['pii_mask_idx'] = pii_mask_idx\n",
    "    data['pii_mask'] = pii_mask\n",
    "    return data\n",
    "\n",
    "def filter_conflict(example):\n",
    "    pii_mask = example['pii_mask']\n",
    "    flag = 0\n",
    "    pii_dict = {}\n",
    "    for pm in pii_mask:\n",
    "        pii_type = pm['label']\n",
    "        pii = pm['value']\n",
    "        if pii_type not in pii_dict:\n",
    "            pii_dict[pii_type] = pii\n",
    "        else:\n",
    "            if pii_dict[pii_type] != pii:\n",
    "                flag=1\n",
    "    return flag==0\n",
    "\n",
    "\n",
    "def fliter_pii_too_much(example):\n",
    "    # 句子中90%单词不能是pii\n",
    "    len_unmask_seq = len(example['masked_seq'].split(' '))\n",
    "    len_pii_mask = len(example['pii_mask_idx'])\n",
    "    # 一句话中一种PII不应该超过三种以上\n",
    "    return len_pii_mask <= 0.1*len_unmask_seq\n",
    "\n",
    "def filter_pii_type_too_much(example):\n",
    "    flag = 0\n",
    "    pii_mask=example['pii_mask']\n",
    "    # print(set(pii_mask))\n",
    "    for pm in pii_mask:\n",
    "        label = pm['label']\n",
    "        if '4' in label:\n",
    "            flag=1\n",
    "    return flag==0 and len(pii_mask)<7\n",
    "\n",
    "# 字符串长度超过500的\n",
    "dataset_train_proc = dataset_train.filter(lambda x: len(x['text'])<300,num_proc=48)\n",
    "print(dataset_train_proc)\n",
    "# 字符串长度小于100的\n",
    "dataset_train_proc = dataset_train_proc.filter(lambda x: len(x['text'])>200,num_proc=48)\n",
    "print(dataset_train_proc)\n",
    "\n",
    "dataset_train_proc = dataset_train_proc.map(proc_pii,num_proc=48)\n",
    "print(dataset_train_proc)\n",
    "\n",
    "# 过滤没有pii的数据\n",
    "dataset_train_proc = dataset_train_proc.filter(lambda x: len(x['pii_mask'])>0, num_proc=48)\n",
    "print(dataset_train_proc)\n",
    "\n",
    "# 过滤句子中90%单词不能是pii\n",
    "dataset_train_proc = dataset_train_proc.filter(fliter_pii_too_much,num_proc=48)\n",
    "print(dataset_train_proc)\n",
    "\n",
    "# 过滤句子中pii类型过多\n",
    "dataset_train_proc = dataset_train_proc.filter(filter_pii_type_too_much,num_proc=48)\n",
    "print(dataset_train_proc)"
   ]
  },
  {
   "cell_type": "code",
   "execution_count": 7,
   "metadata": {},
   "outputs": [],
   "source": [
    "import sys\n",
    "sys.path.append('..')\n",
    "from Data.utils import save_json\n",
    "dataset_AB = dataset_train_proc.train_test_split(test_size=0.5,seed=42)\n",
    "\n",
    "path = '../Data/raw/phishing/echr.json'\n",
    "\n",
    "save_json({'A':dataset_AB['train'].to_list(),'B':dataset_AB['test'].to_list()},path)"
   ]
  },
  {
   "cell_type": "code",
   "execution_count": 8,
   "metadata": {},
   "outputs": [
    {
     "data": {
      "text/plain": [
       "{'LOCATION': 7106, 'DATE_TIME': 41710, 'NRP': 2502, 'PERSON': 9087}"
      ]
     },
     "execution_count": 8,
     "metadata": {},
     "output_type": "execute_result"
    }
   ],
   "source": [
    "pii_dict = {}\n",
    "for pm in dataset_train_proc['pii_mask']:\n",
    "    for p in pm:\n",
    "        label = p['label'].split(\"-\")[0]\n",
    "        value = p['value']\n",
    "        if label not in pii_dict.keys():\n",
    "            pii_dict[label] = 1\n",
    "        else:\n",
    "            pii_dict[label] +=1\n",
    "pii_dict"
   ]
  },
  {
   "cell_type": "code",
   "execution_count": null,
   "metadata": {},
   "outputs": [],
   "source": []
  },
  {
   "cell_type": "markdown",
   "metadata": {},
   "source": [
    "### 验证的数据"
   ]
  },
  {
   "cell_type": "code",
   "execution_count": 22,
   "metadata": {},
   "outputs": [
    {
     "name": "stdout",
     "output_type": "stream",
     "text": [
      "第 1 四分位数: 131.0, 中位数: 246.0, 第 3 四分位数: 431.0\n",
      "mean: 326.0670185809419\n"
     ]
    }
   ],
   "source": [
    "len_mate_data = [len(i) for i in dataset_train['text']]\n",
    "\n",
    "\n",
    "import pandas as pd\n",
    "\n",
    "def calculate_quartiles_with_pandas(data):\n",
    "    \"\"\"\n",
    "    使用 Pandas 计算数据的四分位数\n",
    "    :param data: 数据列表或数组\n",
    "    :return: 第 1 四分位数、第 2 四分位数（中位数）、第 3 四分位数\n",
    "    \"\"\"\n",
    "    series = pd.Series(data)\n",
    "    q1 = series.quantile(0.25)  # 第 1 四分位数\n",
    "    q2 = series.quantile(0.50)  # 中位数\n",
    "    q3 = series.quantile(0.75)  # 第 3 四分位数\n",
    "    return q1, q2, q3\n",
    "\n",
    "# 示例用法\n",
    "data = len_mate_data\n",
    "q1, q2, q3 = calculate_quartiles_with_pandas(data)\n",
    "print(f\"第 1 四分位数: {q1}, 中位数: {q2}, 第 3 四分位数: {q3}\")\n",
    "print('mean:',sum(len_mate_data)/len(len_mate_data))"
   ]
  },
  {
   "cell_type": "code",
   "execution_count": null,
   "metadata": {},
   "outputs": [],
   "source": [
    "import pandas as pd\n",
    "\n",
    "def calculate_quartiles_with_pandas(data):\n",
    "    \"\"\"\n",
    "    使用 Pandas 计算数据的四分位数\n",
    "    :param data: 数据列表或数组\n",
    "    :return: 第 1 四分位数、第 2 四分位数（中位数）、第 3 四分位数\n",
    "    \"\"\"\n",
    "    series = pd.Series(data)\n",
    "    q1 = series.quantile(0.25)  # 第 1 四分位数\n",
    "    q2 = series.quantile(0.50)  # 中位数\n",
    "    q3 = series.quantile(0.75)  # 第 3 四分位数\n",
    "    return q1, q2, q3\n",
    "\n",
    "# 示例用法\n",
    "data = [7, 15, 36, 39, 40, 41, 42, 43, 46, 49]\n",
    "q1, q2, q3 = calculate_quartiles_with_pandas(data)\n",
    "print(f\"第 1 四分位数: {q1}, 中位数: {q2}, 第 3 四分位数: {q3}\")"
   ]
  },
  {
   "cell_type": "code",
   "execution_count": 19,
   "metadata": {},
   "outputs": [
    {
     "data": {
      "text/plain": [
       "{'LOCATION': 52447,\n",
       " 'DATE_TIME': 254849,\n",
       " 'NRP': 21073,\n",
       " 'PERSON': 70134,\n",
       " 'URL': 20,\n",
       " 'AU_ACN': 9,\n",
       " 'AU_TFN': 11,\n",
       " 'MEDICAL_LICENSE': 1,\n",
       " 'UK_NHS': 4}"
      ]
     },
     "execution_count": 19,
     "metadata": {},
     "output_type": "execute_result"
    }
   ],
   "source": [
    "pii_dict = {}\n",
    "for pm in dataset_train_proc['pii_mask']:\n",
    "    for p in pm:\n",
    "        label = p['label'].split('-')[0]\n",
    "        value = p['value']\n",
    "        if label not in pii_dict.keys():\n",
    "            pii_dict[label] = 1\n",
    "        else:\n",
    "            pii_dict[label] +=1\n",
    "pii_dict"
   ]
  },
  {
   "cell_type": "code",
   "execution_count": 11,
   "metadata": {},
   "outputs": [
    {
     "data": {
      "text/plain": [
       "[[{'label': 'LOCATION-0', 'value': 'the United Kingdom'},\n",
       "  {'label': 'DATE_TIME-1', 'value': 'fifteen-year'},\n",
       "  {'label': 'DATE_TIME-0', 'value': 'less than fifteen years'},\n",
       "  {'label': 'NRP-0', 'value': 'British'},\n",
       "  {'label': 'DATE_TIME-2', 'value': '5 May 2010'}],\n",
       " [{'label': 'DATE_TIME-0', 'value': '1983'},\n",
       "  {'label': 'LOCATION-0', 'value': 'the Republic of Ireland'}],\n",
       " [{'label': 'DATE_TIME-0', 'value': '1983'},\n",
       "  {'label': 'LOCATION-0', 'value': 'the United Kingdom'}],\n",
       " [{'label': 'LOCATION-0', 'value': 'the United Kingdom'}],\n",
       " [{'label': 'DATE_TIME-0', 'value': '1985'},\n",
       "  {'label': 'NRP-0', 'value': 'British'},\n",
       "  {'label': 'LOCATION-0', 'value': 'the United Kingdom'}],\n",
       " [{'label': 'DATE_TIME-0', 'value': '15 years ending'}],\n",
       " [{'label': 'NRP-0', 'value': 'British'},\n",
       "  {'label': 'LOCATION-0', 'value': 'the United Kingdom'}],\n",
       " [{'label': 'DATE_TIME-0', 'value': '2(4'}],\n",
       " [{'label': 'DATE_TIME-0', 'value': '1985'},\n",
       "  {'label': 'NRP-0', 'value': 'British'},\n",
       "  {'label': 'LOCATION-0', 'value': 'the United Kingdom'}],\n",
       " [{'label': 'DATE_TIME-1', 'value': 'seven-year'},\n",
       "  {'label': 'LOCATION-0', 'value': 'States'},\n",
       "  {'label': 'LOCATION-1', 'value': 'the United Kingdom'},\n",
       "  {'label': 'DATE_TIME-0', 'value': '1982'},\n",
       "  {'label': 'DATE_TIME-2', 'value': 'as long as ten years'},\n",
       "  {'label': 'NRP-0', 'value': 'British'}],\n",
       " [{'label': 'LOCATION-0', 'value': 'the United Kingdom'},\n",
       "  {'label': 'DATE_TIME-0', 'value': '1985'},\n",
       "  {'label': 'DATE_TIME-2', 'value': 'seven-year'},\n",
       "  {'label': 'DATE_TIME-1', 'value': 'the previous five years'},\n",
       "  {'label': 'NRP-0', 'value': 'British'}],\n",
       " [{'label': 'LOCATION-0', 'value': 'the United Kingdom'},\n",
       "  {'label': 'DATE_TIME-1', 'value': 'twenty years'},\n",
       "  {'label': 'DATE_TIME-0', 'value': 'five-year'},\n",
       "  {'label': 'DATE_TIME-2', 'value': 'twenty-five years'}],\n",
       " [{'label': 'DATE_TIME-0', 'value': '1989'},\n",
       "  {'label': 'DATE_TIME-1', 'value': 'twenty-year'}],\n",
       " [{'label': 'DATE_TIME-0', 'value': 'September 1998'}],\n",
       " [{'label': 'DATE_TIME-3', 'value': '1991'},\n",
       "  {'label': 'DATE_TIME-1', 'value': 'twenty years'},\n",
       "  {'label': 'DATE_TIME-0', 'value': 'up to five years'},\n",
       "  {'label': 'DATE_TIME-5', 'value': '1998'},\n",
       "  {'label': 'DATE_TIME-2', 'value': 'The peak year'},\n",
       "  {'label': 'NRP-1', 'value': 'European'},\n",
       "  {'label': 'NRP-0', 'value': 'British'},\n",
       "  {'label': 'DATE_TIME-4', 'value': '1997'}],\n",
       " [{'label': 'PERSON-0', 'value': 'Blackburn'},\n",
       "  {'label': 'NRP-1', 'value': 'Liberal Democrat'},\n",
       "  {'label': 'DATE_TIME-0', 'value': '20 years'},\n",
       "  {'label': 'LOCATION-0', 'value': 'UK'},\n",
       "  {'label': 'NRP-0', 'value': 'British'}],\n",
       " [{'label': 'PERSON-0', 'value': 'Gardner'},\n",
       "  {'label': 'LOCATION-0', 'value': 'UK'},\n",
       "  {'label': 'DATE_TIME-1', 'value': 'more than twenty years'},\n",
       "  {'label': 'DATE_TIME-0', 'value': 'the twenty year'}],\n",
       " [{'label': 'DATE_TIME-1', 'value': 'five years'},\n",
       "  {'label': 'NRP-0', 'value': 'British'},\n",
       "  {'label': 'DATE_TIME-0', 'value': 'the twenty year'}],\n",
       " [{'label': 'DATE_TIME-1', 'value': 'fifteen years'},\n",
       "  {'label': 'DATE_TIME-2', 'value': '2000'},\n",
       "  {'label': 'DATE_TIME-0', 'value': 'twenty-year'},\n",
       "  {'label': 'DATE_TIME-3', 'value': 'ten years'},\n",
       "  {'label': 'DATE_TIME-4', 'value': 'ten-year'}],\n",
       " [{'label': 'DATE_TIME-0', 'value': '6 May 2009'},\n",
       "  {'label': 'DATE_TIME-1', 'value': '2009'},\n",
       "  {'label': 'DATE_TIME-2', 'value': 'fifteen to twenty years'}]]"
      ]
     },
     "execution_count": 11,
     "metadata": {},
     "output_type": "execute_result"
    }
   ],
   "source": [
    "dataset_train_proc['pii_mask'][:20]"
   ]
  },
  {
   "cell_type": "code",
   "execution_count": 1,
   "metadata": {},
   "outputs": [
    {
     "name": "stdout",
     "output_type": "stream",
     "text": [
      "不一样的子串:  {'str1_diff': ['de'], 'str2_diff': ['xy']}\n"
     ]
    }
   ],
   "source": [
    "def find_differences(str1, str2):\n",
    "    \"\"\"\n",
    "    查找两个字符串中的不同子串并以字典形式返回。\n",
    "    返回格式: {'str1_diff': [...], 'str2_diff': [...]}\n",
    "    \"\"\"\n",
    "    import difflib\n",
    "\n",
    "    # 使用 difflib.SequenceMatcher 查找不同部分\n",
    "    matcher = difflib.SequenceMatcher(None, str1, str2)\n",
    "    str1_diff = []\n",
    "    str2_diff = []\n",
    "\n",
    "    for tag, i1, i2, j1, j2 in matcher.get_opcodes():\n",
    "        if tag == 'replace' or tag == 'delete':\n",
    "            str1_diff.append(str1[i1:i2])\n",
    "        if tag == 'replace' or tag == 'insert':\n",
    "            str2_diff.append(str2[j1:j2])\n",
    "\n",
    "    return {'str1_diff': str1_diff, 'str2_diff': str2_diff}\n",
    "\n",
    "\n",
    "# 示例字符串\n",
    "str1 = \"abcdefg\"\n",
    "str2 = \"abcxyfg\"\n",
    "\n",
    "# 查找不同部分\n",
    "differences = find_differences(str1, str2)\n",
    "\n",
    "# 打印结果\n",
    "print(\"不一样的子串: \", differences)"
   ]
  },
  {
   "cell_type": "code",
   "execution_count": 2,
   "metadata": {},
   "outputs": [
    {
     "name": "stdout",
     "output_type": "stream",
     "text": [
      "不一样的子串:  {'str1_diff': [('The applicant, born in 1968, presently resides in Karlskrona, Sweden. In his application form, he states that he has Croatian nationality.',), ('On 23 March 1994 the applicant arrived in Sweden and requested asylum. He stated that he was a Bosnian Catholic with Bosnian citizenship. Before leaving for Sweden, he had been living in Kraljeva Sutjeska. He held also a Croatian passport but this was to be considered as a travel document only. In 1992, while serving as a policeman in Utravnic, he refused to join the Muslim forces and, as a consequence, he was accused of having stolen 40 rifles from the police station. Later, he was placed in a special unit from which he could not resign. Resenting police attacks on Muslims and being unable to handle the mental and physical stress, he later deserted from that unit. Further, in June 1993 Kraljeva Sutjeska was occupied by Muslim troops. Along with other residents, the applicant participated in the defence of the village. Later, he was forced to leave the village and, on 15 March 1994, he arrived in Croatia with his parents and siblings. Allegedly, if returned to Croatia, he would risk being sent to Bosnia-Hercegovina where he could be sentenced to 20 years in prison for refusing to bear arms.', 'On 30 September 1994 the National Immigration Board (Statens invandrarverk) rejected the applicant’s request and ordered his deportation to Croatia. The Board called into question the credibility of the applicant’s statements concerning his military and police activities as he had changed the statements during the course of the investigation. Finding that the applicant held both Bosnian and Croatian citizenship, the Board referred to a decision concerning asylum seekers with such double nationality taken by the Swedish Government on 26 May 1994. According to the decision, the prevailing situation in Bosnia-Hercegovina rendered deportations to that country impossible. Consequently, in assessing applications from these asylum seekers, the crucial question was whether they could be afforded protection in Croatia. The Board noted that, according to available information, persons in the applicant’s situation did not risk to be sent from Croatia to Bosnia-Hercegovina against their will. Moreover, no acts of warfare had taken place on Croatian territory for some time and a cease-fire had been agreed upon by the contending parties. Thus, there was no apparent risk that Croatian citizens in general would be forced to take part in armed conflict. Further, the applicant had failed to show that he personally faced such a risk.', 'The applicant appealed to the Aliens Appeals Board (Utlänningsnämnden). On 29 March 1995 the Appeals Board, sharing the opinion of the Immigration Board, rejected the appeal.', 'The applicant later requested a temporary residence permit in Sweden. By a decision of 20 June 1995 the Appeals Board granted the applicant such a permit until 1 December 1995 and quashed the deportation order. In so doing, the Board referred to a Government decision of 5 May 1995 according to which the worsened situation in Croatia constituted an impediment to the deportation of asylum seekers to that country.', 'On 20 November 1995 the applicant submitted a new application for a residence permit. He referred to his previous statements. Further, in a final statement of 23 March 1997 he claimed that he should be granted a residence permit on humanitarian grounds on account of the time he had spent in Sweden.', 'On 27 March 1997 the Immigration Board rejected the applicant’s new application and ordered his deportation to Croatia. The Board had regard to a guiding decision taken by the Swedish Government on 28 November 1996. In that decision the Government stated, inter alia, the following:', '(Translation)', '“As regards the situation in Croatia and the region, the ongoing peace process, based on a general agreement on peace in Bosnia-Hercegovina, has lead to stabilisation. The relations between Croatia and the Federal Republic of Yugoslavia have improved. Croatia has been admitted into the Council of Europe. Acts of warfare have not occurred on Croatian territory since August 1995. The risk of further conflicts appears unlikely. The general situation in Croatia has improved in such a way since the Government’s previous assessment in May 1995 that nowadays Croatian citizens can generally be afforded protection in Croatia.”', 'The Immigration Board noted that the Swedish Government’s view had been confirmed by the United Nations High Commissioner for Refugees (UNHCR) and the Croatian Government. As in the previous decisions taken concerning the applicant, the Board found that he could not be sent back to Bosnia-Hercegovina. With regard to the possible deportation to Croatia, the Board noted that no new circumstances had been invoked by the applicant. Consequently, the Immigration Board shared the opinions expressed in its decision of 30 September 1994 and the decision taken by the Aliens Appeals Board on 29 March 1995. Furthermore, the Immigration Board found that there were no reasons of a humanitarian nature to grant the applicant a residence permit.', 'Following the applicant’s appeal, the Appeals Board, on 2 June 1997, quashed the Immigration Board’s decision and referred the case back for re-examination. The Appeals Board found that no oral hearing had been held by the Immigration Board, as required by law.', 'The Immigration Board held an oral hearing in the case on 11 June 1997 during which the applicant stated that, despite the fact that he held a Croatian passport, he did not possess the full rights of a Croatian citizen. Moreover, his parents and one of his brothers lived in Croatia where they had difficulties to support themselves. In Croatia nothing in particular would happen to the applicant but it would be hard for him to find work and a place to live.', 'In a decision of 30 June 1997 the Immigration Board rejected the applicant’s new application on the same grounds as those expressed in the quashed decision. On 17 April 1998 the Appeals Board rejected the applicant’s appeal. The Appeals Board noted that the applicant is an ethnic Croat and, as such, would be at risk in his Bosnian home district, dominated by Muslims. However, the applicant’s statements did not indicate that he would face ill-treatment in Croatia.', 'In medical certificates issued by the psychiatric clinic at the hospital in Karlskrona on 30 November 1998 and 19 January 1999 chief physician G.S. and therapist I.S. stated that the applicant had undergone treatment for some time at the clinic for a post-traumatic stress syndrome. Allegedly, the enforcement of the deportation order would seriously impair his mental state and could lead to a suicide attempt. The clinic submitted the first certificate to the Aliens Appeals Board and requested that the enforcement be suspended.', 'By a decision of 9 December 1998 the Appeals Board suspended the enforcement of the deportation order for an unspecified period of time.')], 'str2_diff': [('The applicant , born in DATE , presently resides in GPE , GPE . In his application form , he states that he has NORP nationality .',), ('On DATE the applicant arrived in GPE and requested asylum . He stated that he was NORP . Before leaving for GPE , he had been living in PERSON . He held also a NORP passport but this was to be considered as a travel document only . In DATE , while serving as a policeman in GPE , he refused to join the NORP forces and , as a consequence , he was accused of having stolen CARDINAL rifles from the police station . Later , he was placed in a special unit from which he could not resign . Resenting police attacks on NORP and being unable to handle the mental and physical stress , he later deserted from that unit . Further , in DATE PERSON was occupied by NORP troops . Along with other residents , the applicant participated in the defence of the village . Later , he was forced to leave the village and , on DATE , he arrived in GPE with his parents and siblings . Allegedly , if returned to GPE , he would risk being sent to GPE where he could be sentenced to DATE in prison for refusing to bear arms .', 'On DATE ORG ( ORG invandrarverk ) rejected the applicant ’s request and ordered his deportation to GPE . ORG called into question the credibility of the applicant ’s statements concerning his military and police activities as he had changed the statements during the course of the investigation . Finding that the applicant held both NORP and NORP citizenship , the ORG referred to a decision concerning asylum seekers with such double nationality taken by ORG on DATE . According to the decision , the prevailing situation in GPE rendered deportations to that country impossible . Consequently , in assessing applications from these asylum seekers , the crucial question was whether they could be afforded protection in GPE . ORG noted that , according to available information , persons in the applicant ’s situation did not risk to be sent from GPE to GPE against their will . Moreover , no acts of warfare had taken place on NORP territory for some time and a cease - fire had been agreed upon by the contending parties . Thus , there was no apparent risk that NORP citizens in general would be forced to take part in armed conflict . Further , the applicant had failed to show that he personally faced such a risk .', 'The applicant appealed to ORG ( Utlänningsnämnden ) . On DATE ORG , sharing the opinion of ORG , rejected the appeal .', 'The applicant later requested a temporary residence permit in GPE . By a decision of DATE ORG granted the applicant such a permit until DATE and quashed the deportation order . In so doing , ORG referred to a Government decision of CARDINAL DATE according to which the worsened situation in GPE constituted an impediment to the deportation of asylum seekers to that country .', 'On DATE the applicant submitted a new application for a residence permit . He referred to his previous statements . Further , in a final statement of DATE he claimed that he should be granted a residence permit on humanitarian grounds on account of the time he had spent in GPE .', 'On DATE ORG rejected the applicant ’s new application and ordered his deportation to GPE . ORG had regard to a guiding decision taken by ORG on DATE . In that decision the ORG stated , inter alia , the following :', '( Translation )', '“ As regards the situation in GPE and the region , the ongoing peace process , based on a general agreement on peace in GPE , has lead to stabilisation . The relations between GPE and GPE have improved . GPE has been admitted into ORG . Acts of warfare have not occurred on NORP territory since DATE . The risk of further conflicts appears unlikely . The general situation in GPE has improved in such a way since the Government ’s previous assessment in DATE that nowadays NORP citizens can generally be afforded protection in GPE . ”', 'ORG noted that ORG view had been confirmed by the ORG High Commissioner for Refugees ( ORG ) and ORG . As in the previous decisions taken concerning the applicant , ORG found that he could not be sent back to GPE . With regard to the possible deportation to GPE , the ORG noted that no new circumstances had been invoked by the applicant . Consequently , ORG shared the opinions expressed in its decision of DATE and the decision taken by ORG on DATE . Furthermore , ORG found that there were no reasons of a humanitarian nature to grant the applicant a residence permit .', 'Following the applicant ’s appeal , ORG , on DATE , quashed ORG decision and referred the case back for re - examination . ORG found that no oral hearing had been held by ORG , as required by law .', 'ORG held an oral hearing in the case on DATE during which the applicant stated that , despite the fact that he held a NORP passport , he did not possess the full rights of a NORP citizen . Moreover , his parents and one of his brothers lived in GPE where they had difficulties to support themselves . In GPE nothing in particular would happen to the applicant but it would be hard for him to find work and a place to live .', 'In a decision of DATE ORG rejected the applicant ’s new application on the same grounds as those expressed in the quashed decision . On DATE ORG rejected the applicant ’s appeal . ORG noted that the applicant is an ethnic NORP and , as such , would be at risk in his NORP home district , dominated by NORP . However , the applicant ’s statements did not indicate that he would face ill - treatment in GPE .', 'In medical certificates issued by the psychiatric clinic at the hospital in GPE on DATE and DATE chief physician PERSON and therapist PERSON stated that the applicant had undergone treatment for some time at the clinic for a post - traumatic stress syndrome . Allegedly , the enforcement of the deportation order would seriously impair his mental state and could lead to a suicide attempt . The clinic submitted the first certificate to ORG and requested that the enforcement be suspended .', 'By a decision of DATE ORG suspended the enforcement of the deportation order for an unspecified period of time .')]}\n"
     ]
    }
   ],
   "source": [
    "str1=\"The applicant, born in 1968, presently resides in Karlskrona, Sweden. In his application form, he states that he has Croatian nationality.\", \"\", \"On 23 March 1994 the applicant arrived in Sweden and requested asylum. He stated that he was a Bosnian Catholic with Bosnian citizenship. Before leaving for Sweden, he had been living in Kraljeva Sutjeska. He held also a Croatian passport but this was to be considered as a travel document only. In 1992, while serving as a policeman in Utravnic, he refused to join the Muslim forces and, as a consequence, he was accused of having stolen 40 rifles from the police station. Later, he was placed in a special unit from which he could not resign. Resenting police attacks on Muslims and being unable to handle the mental and physical stress, he later deserted from that unit. Further, in June 1993 Kraljeva Sutjeska was occupied by Muslim troops. Along with other residents, the applicant participated in the defence of the village. Later, he was forced to leave the village and, on 15 March 1994, he arrived in Croatia with his parents and siblings. Allegedly, if returned to Croatia, he would risk being sent to Bosnia-Hercegovina where he could be sentenced to 20 years in prison for refusing to bear arms.\", \"On 30 September 1994 the National Immigration Board (Statens invandrarverk) rejected the applicant\\u2019s request and ordered his deportation to Croatia. The Board called into question the credibility of the applicant\\u2019s statements concerning his military and police activities as he had changed the statements during the course of the investigation. Finding that the applicant held both Bosnian and Croatian citizenship, the Board referred to a decision concerning asylum seekers with such double nationality taken by the Swedish Government on 26 May 1994. According to the decision, the prevailing situation in Bosnia-Hercegovina rendered deportations to that country impossible. Consequently, in assessing applications from these asylum seekers, the crucial question was whether they could be afforded protection in Croatia. The Board noted that, according to available information, persons in the applicant\\u2019s situation did not risk to be sent from Croatia to Bosnia-Hercegovina against their will. Moreover, no acts of warfare had taken place on Croatian territory for some time and a cease-fire had been agreed upon by the contending parties. Thus, there was no apparent risk that Croatian citizens in general would be forced to take part in armed conflict. Further, the applicant had failed to show that he personally faced such a risk.\", \"The applicant appealed to the Aliens Appeals Board (Utl\\u00e4nningsn\\u00e4mnden). On 29 March 1995 the Appeals Board, sharing the opinion of the Immigration Board, rejected the appeal.\", \"The applicant later requested a temporary residence permit in Sweden. By a decision of 20 June 1995 the Appeals Board granted the applicant such a permit until 1 December 1995 and quashed the deportation order. In so doing, the Board referred to a Government decision of 5 May 1995 according to which the worsened situation in Croatia constituted an impediment to the deportation of asylum seekers to that country.\", \"On 20 November 1995 the applicant submitted a new application for a residence permit. He referred to his previous statements. Further, in a final statement of 23 March 1997 he claimed that he should be granted a residence permit on humanitarian grounds on account of the time he had spent in Sweden.\", \"On 27 March 1997 the Immigration Board rejected the applicant\\u2019s new application and ordered his deportation to Croatia. The Board had regard to a guiding decision taken by the Swedish Government on 28 November 1996. In that decision the Government stated, inter alia, the following:\", \"(Translation)\", \"\\u201cAs regards the situation in Croatia and the region, the ongoing peace process, based on a general agreement on peace in Bosnia-Hercegovina, has lead to stabilisation. The relations between Croatia and the Federal Republic of Yugoslavia have improved. Croatia has been admitted into the Council of Europe. Acts of warfare have not occurred on Croatian territory since August 1995. The risk of further conflicts appears unlikely. The general situation in Croatia has improved in such a way since the Government\\u2019s previous assessment in May 1995 that nowadays Croatian citizens can generally be afforded protection in Croatia.\\u201d\", \"The Immigration Board noted that the Swedish Government\\u2019s view had been confirmed by the United Nations High Commissioner for Refugees (UNHCR) and the Croatian Government. As in the previous decisions taken concerning the applicant, the Board found that he could not be sent back to Bosnia-Hercegovina. With regard to the possible deportation to Croatia, the Board noted that no new circumstances had been invoked by the applicant. Consequently, the Immigration Board shared the opinions expressed in its decision of 30 September 1994 and the decision taken by the Aliens Appeals Board on 29 March 1995. Furthermore, the Immigration Board found that there were no reasons of a humanitarian nature to grant the applicant a residence permit.\", \"Following the applicant\\u2019s appeal, the Appeals Board, on 2 June 1997, quashed the Immigration Board\\u2019s decision and referred the case back for re-examination. The Appeals Board found that no oral hearing had been held by the Immigration Board, as required by law.\", \"The Immigration Board held an oral hearing in the case on 11 June 1997 during which the applicant stated that, despite the fact that he held a Croatian passport, he did not possess the full rights of a Croatian citizen. Moreover, his parents and one of his brothers lived in Croatia where they had difficulties to support themselves. In Croatia nothing in particular would happen to the applicant but it would be hard for him to find work and a place to live.\", \"In a decision of 30 June 1997 the Immigration Board rejected the applicant\\u2019s new application on the same grounds as those expressed in the quashed decision. On 17 April 1998 the Appeals Board rejected the applicant\\u2019s appeal. The Appeals Board noted that the applicant is an ethnic Croat and, as such, would be at risk in his Bosnian home district, dominated by Muslims. However, the applicant\\u2019s statements did not indicate that he would face ill-treatment in Croatia.\", \"In medical certificates issued by the psychiatric clinic at the hospital in Karlskrona on 30 November 1998 and 19 January 1999 chief physician G.S. and therapist I.S. stated that the applicant had undergone treatment for some time at the clinic for a post-traumatic stress syndrome. Allegedly, the enforcement of the deportation order would seriously impair his mental state and could lead to a suicide attempt. The clinic submitted the first certificate to the Aliens Appeals Board and requested that the enforcement be suspended.\", \"By a decision of 9 December 1998 the Appeals Board suspended the enforcement of the deportation order for an unspecified period of time.\"\n",
    "str2=\"The applicant , born in DATE , presently resides in GPE , GPE . In his application form , he states that he has NORP nationality .\", \"\", \"On DATE the applicant arrived in GPE and requested asylum . He stated that he was NORP . Before leaving for GPE , he had been living in PERSON . He held also a NORP passport but this was to be considered as a travel document only . In DATE , while serving as a policeman in GPE , he refused to join the NORP forces and , as a consequence , he was accused of having stolen CARDINAL rifles from the police station . Later , he was placed in a special unit from which he could not resign . Resenting police attacks on NORP and being unable to handle the mental and physical stress , he later deserted from that unit . Further , in DATE PERSON was occupied by NORP troops . Along with other residents , the applicant participated in the defence of the village . Later , he was forced to leave the village and , on DATE , he arrived in GPE with his parents and siblings . Allegedly , if returned to GPE , he would risk being sent to GPE where he could be sentenced to DATE in prison for refusing to bear arms .\", \"On DATE ORG ( ORG invandrarverk ) rejected the applicant \\u2019s request and ordered his deportation to GPE . ORG called into question the credibility of the applicant \\u2019s statements concerning his military and police activities as he had changed the statements during the course of the investigation . Finding that the applicant held both NORP and NORP citizenship , the ORG referred to a decision concerning asylum seekers with such double nationality taken by ORG on DATE . According to the decision , the prevailing situation in GPE rendered deportations to that country impossible . Consequently , in assessing applications from these asylum seekers , the crucial question was whether they could be afforded protection in GPE . ORG noted that , according to available information , persons in the applicant \\u2019s situation did not risk to be sent from GPE to GPE against their will . Moreover , no acts of warfare had taken place on NORP territory for some time and a cease - fire had been agreed upon by the contending parties . Thus , there was no apparent risk that NORP citizens in general would be forced to take part in armed conflict . Further , the applicant had failed to show that he personally faced such a risk .\", \"The applicant appealed to ORG ( Utl\\u00e4nningsn\\u00e4mnden ) . On DATE ORG , sharing the opinion of ORG , rejected the appeal .\", \"The applicant later requested a temporary residence permit in GPE . By a decision of DATE ORG granted the applicant such a permit until DATE and quashed the deportation order . In so doing , ORG referred to a Government decision of CARDINAL DATE according to which the worsened situation in GPE constituted an impediment to the deportation of asylum seekers to that country .\", \"On DATE the applicant submitted a new application for a residence permit . He referred to his previous statements . Further , in a final statement of DATE he claimed that he should be granted a residence permit on humanitarian grounds on account of the time he had spent in GPE .\", \"On DATE ORG rejected the applicant \\u2019s new application and ordered his deportation to GPE . ORG had regard to a guiding decision taken by ORG on DATE . In that decision the ORG stated , inter alia , the following :\", \"( Translation )\", \"\\u201c As regards the situation in GPE and the region , the ongoing peace process , based on a general agreement on peace in GPE , has lead to stabilisation . The relations between GPE and GPE have improved . GPE has been admitted into ORG . Acts of warfare have not occurred on NORP territory since DATE . The risk of further conflicts appears unlikely . The general situation in GPE has improved in such a way since the Government \\u2019s previous assessment in DATE that nowadays NORP citizens can generally be afforded protection in GPE . \\u201d\", \"ORG noted that ORG view had been confirmed by the ORG High Commissioner for Refugees ( ORG ) and ORG . As in the previous decisions taken concerning the applicant , ORG found that he could not be sent back to GPE . With regard to the possible deportation to GPE , the ORG noted that no new circumstances had been invoked by the applicant . Consequently , ORG shared the opinions expressed in its decision of DATE and the decision taken by ORG on DATE . Furthermore , ORG found that there were no reasons of a humanitarian nature to grant the applicant a residence permit .\", \"Following the applicant \\u2019s appeal , ORG , on DATE , quashed ORG decision and referred the case back for re - examination . ORG found that no oral hearing had been held by ORG , as required by law .\", \"ORG held an oral hearing in the case on DATE during which the applicant stated that , despite the fact that he held a NORP passport , he did not possess the full rights of a NORP citizen . Moreover , his parents and one of his brothers lived in GPE where they had difficulties to support themselves . In GPE nothing in particular would happen to the applicant but it would be hard for him to find work and a place to live .\", \"In a decision of DATE ORG rejected the applicant \\u2019s new application on the same grounds as those expressed in the quashed decision . On DATE ORG rejected the applicant \\u2019s appeal . ORG noted that the applicant is an ethnic NORP and , as such , would be at risk in his NORP home district , dominated by NORP . However , the applicant \\u2019s statements did not indicate that he would face ill - treatment in GPE .\", \"In medical certificates issued by the psychiatric clinic at the hospital in GPE on DATE and DATE chief physician PERSON and therapist PERSON stated that the applicant had undergone treatment for some time at the clinic for a post - traumatic stress syndrome . Allegedly , the enforcement of the deportation order would seriously impair his mental state and could lead to a suicide attempt . The clinic submitted the first certificate to ORG and requested that the enforcement be suspended .\", \"By a decision of DATE ORG suspended the enforcement of the deportation order for an unspecified period of time .\"\n",
    "\n",
    "differences = find_differences(str1, str2)\n",
    "\n",
    "# 打印结果\n",
    "print(\"不一样的子串: \", differences)"
   ]
  }
 ],
 "metadata": {
  "kernelspec": {
   "display_name": "llm-merging",
   "language": "python",
   "name": "python3"
  },
  "language_info": {
   "codemirror_mode": {
    "name": "ipython",
    "version": 3
   },
   "file_extension": ".py",
   "mimetype": "text/x-python",
   "name": "python",
   "nbconvert_exporter": "python",
   "pygments_lexer": "ipython3",
   "version": "3.10.14"
  }
 },
 "nbformat": 4,
 "nbformat_minor": 2
}
