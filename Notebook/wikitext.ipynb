{
 "cells": [
  {
   "cell_type": "code",
   "execution_count": 2,
   "metadata": {},
   "outputs": [
    {
     "name": "stderr",
     "output_type": "stream",
     "text": [
      "Using the latest cached version of the dataset since Salesforce/wikitext couldn't be found on the Hugging Face Hub\n",
      "Found the latest cached dataset configuration 'wikitext-103-raw-v1' at /root/.cache/huggingface/datasets/Salesforce___wikitext/wikitext-103-raw-v1/0.0.0/b08601e04326c79dfdd32d625aee71d232d685c3 (last modified on Thu Nov 21 01:39:49 2024).\n"
     ]
    },
    {
     "data": {
      "text/plain": [
       "DatasetDict({\n",
       "    test: Dataset({\n",
       "        features: ['text'],\n",
       "        num_rows: 4358\n",
       "    })\n",
       "    train: Dataset({\n",
       "        features: ['text'],\n",
       "        num_rows: 1801350\n",
       "    })\n",
       "    validation: Dataset({\n",
       "        features: ['text'],\n",
       "        num_rows: 3760\n",
       "    })\n",
       "})"
      ]
     },
     "execution_count": 2,
     "metadata": {},
     "output_type": "execute_result"
    }
   ],
   "source": [
    "from datasets import load_dataset\n",
    "import os\n",
    "os.environ['https_proxy'] = 'http://10.14.30.39:7890'\n",
    "ds = load_dataset(\"Salesforce/wikitext\", \"wikitext-103-raw-v1\")\n",
    "ds"
   ]
  },
  {
   "cell_type": "code",
   "execution_count": 3,
   "metadata": {},
   "outputs": [
    {
     "data": {
      "text/plain": [
       "Dataset({\n",
       "    features: ['text'],\n",
       "    num_rows: 1801350\n",
       "})"
      ]
     },
     "execution_count": 3,
     "metadata": {},
     "output_type": "execute_result"
    }
   ],
   "source": [
    "train_ds = ds['train']\n",
    "train_ds"
   ]
  },
  {
   "cell_type": "code",
   "execution_count": 4,
   "metadata": {},
   "outputs": [
    {
     "name": "stdout",
     "output_type": "stream",
     "text": [
      "第 1 四分位数: 0.0, 中位数: 33.0, 第 3 四分位数: 557.0\n",
      "mean: 298.82828600771643\n"
     ]
    }
   ],
   "source": [
    "len_mate_data = [len(i) for i in train_ds['text']]\n",
    "\n",
    "\n",
    "import pandas as pd\n",
    "\n",
    "def calculate_quartiles_with_pandas(data):\n",
    "    \"\"\"\n",
    "    使用 Pandas 计算数据的四分位数\n",
    "    :param data: 数据列表或数组\n",
    "    :return: 第 1 四分位数、第 2 四分位数（中位数）、第 3 四分位数\n",
    "    \"\"\"\n",
    "    series = pd.Series(data)\n",
    "    q1 = series.quantile(0.25)  # 第 1 四分位数\n",
    "    q2 = series.quantile(0.50)  # 中位数\n",
    "    q3 = series.quantile(0.75)  # 第 3 四分位数\n",
    "    return q1, q2, q3\n",
    "\n",
    "# 示例用法\n",
    "data = len_mate_data\n",
    "q1, q2, q3 = calculate_quartiles_with_pandas(data)\n",
    "print(f\"第 1 四分位数: {q1}, 中位数: {q2}, 第 3 四分位数: {q3}\")\n",
    "print('mean:',sum(len_mate_data)/len(len_mate_data))"
   ]
  },
  {
   "cell_type": "code",
   "execution_count": 6,
   "metadata": {},
   "outputs": [
    {
     "data": {
      "application/vnd.jupyter.widget-view+json": {
       "model_id": "cbf19f28058447e0bb0dba69d498df4f",
       "version_major": 2,
       "version_minor": 0
      },
      "text/plain": [
       "Filter (num_proc=48):   0%|          | 0/1801350 [00:00<?, ? examples/s]"
      ]
     },
     "metadata": {},
     "output_type": "display_data"
    },
    {
     "data": {
      "application/vnd.jupyter.widget-view+json": {
       "model_id": "502045f52bc44abc9ed090dff0cc3b8a",
       "version_major": 2,
       "version_minor": 0
      },
      "text/plain": [
       "Filter (num_proc=48):   0%|          | 0/650109 [00:00<?, ? examples/s]"
      ]
     },
     "metadata": {},
     "output_type": "display_data"
    },
    {
     "data": {
      "text/plain": [
       "Dataset({\n",
       "    features: ['text'],\n",
       "    num_rows: 67517\n",
       "})"
      ]
     },
     "execution_count": 6,
     "metadata": {},
     "output_type": "execute_result"
    }
   ],
   "source": [
    "train_ds = train_ds.filter(lambda x: len(x['text'])>300, num_proc=48)\n",
    "train_ds = train_ds.filter(lambda x: len(x['text'])<400, num_proc=48)\n",
    "train_ds"
   ]
  },
  {
   "cell_type": "code",
   "execution_count": 7,
   "metadata": {},
   "outputs": [],
   "source": [
    "from datasets import Dataset\n",
    "\n",
    "train_ds_shu = train_ds.shuffle(seed=42)\n",
    "dataset_used_A_train = train_ds_shu.select(range(0,20000))['text']\n",
    "dataset_used_A_test = train_ds_shu.select(range(20000,22000))['text']\n",
    "dataset_used_B_train_mem = train_ds_shu.select(range(22000,32000))['text']\n",
    "dataset_used_B_train_non = train_ds_shu.select(range(32000,42000))['text']\n",
    "dataset_used_B_test = train_ds_shu.select(range(42000,44000))['text']\n",
    "\n",
    "\n",
    "import sys\n",
    "sys.path.append('..')\n",
    "from Data.utils import save_json,load_json\n",
    "\n",
    "path = '../Data/raw/phishing/wikitext.json'\n",
    "\n",
    "save_json({\n",
    "    'A':{\n",
    "        'train':dataset_used_A_train,\n",
    "        'test':dataset_used_A_test\n",
    "    },\n",
    "    'B':{\n",
    "        'train':dataset_used_B_train_mem,\n",
    "        'test':dataset_used_B_test,\n",
    "        'train_non':dataset_used_B_train_non\n",
    "    }\n",
    "},path)"
   ]
  }
 ],
 "metadata": {
  "kernelspec": {
   "display_name": "llm-merging",
   "language": "python",
   "name": "python3"
  },
  "language_info": {
   "codemirror_mode": {
    "name": "ipython",
    "version": 3
   },
   "file_extension": ".py",
   "mimetype": "text/x-python",
   "name": "python",
   "nbconvert_exporter": "python",
   "pygments_lexer": "ipython3",
   "version": "3.10.14"
  }
 },
 "nbformat": 4,
 "nbformat_minor": 2
}
